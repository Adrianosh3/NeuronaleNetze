{
  "nbformat": 4,
  "nbformat_minor": 0,
  "metadata": {
    "colab": {
      "name": "CNN_From_Scratch_Version_2.ipynb",
      "provenance": [],
      "collapsed_sections": [],
      "authorship_tag": "ABX9TyM2fq7f6s4GUZHvz9OXr7/J",
      "include_colab_link": true
    },
    "kernelspec": {
      "name": "python3",
      "display_name": "Python 3"
    },
    "language_info": {
      "name": "python"
    }
  },
  "cells": [
    {
      "cell_type": "markdown",
      "metadata": {
        "id": "view-in-github",
        "colab_type": "text"
      },
      "source": [
        "<a href=\"https://colab.research.google.com/github/Adrianosh3/NeuronaleNetze/blob/main/CNN_From_Scratch_Version_2.ipynb\" target=\"_parent\"><img src=\"https://colab.research.google.com/assets/colab-badge.svg\" alt=\"Open In Colab\"/></a>"
      ]
    },
    {
      "cell_type": "code",
      "execution_count": 27,
      "metadata": {
        "id": "Jvfz7oDYttHY"
      },
      "outputs": [],
      "source": [
        "import torch\n",
        "import torch.nn as nn\n",
        "from torchvision import datasets, transforms, utils\n",
        "\n",
        "import numpy as np\n",
        "import matplotlib.pyplot as plt"
      ]
    },
    {
      "cell_type": "code",
      "source": [
        "if torch.cuda.is_available():\n",
        "    device = torch.device('cuda')\n",
        "else:\n",
        "    device = torch.device('cpu')\n",
        "    \n",
        "print('Using PyTorch version:', torch.__version__, ' Device:', device)"
      ],
      "metadata": {
        "colab": {
          "base_uri": "https://localhost:8080/"
        },
        "id": "8EJbWasDt0rV",
        "outputId": "c0240dd3-fca8-4b35-f7e2-3fb73228b6d1"
      },
      "execution_count": 28,
      "outputs": [
        {
          "output_type": "stream",
          "name": "stdout",
          "text": [
            "Using PyTorch version: 1.10.0+cu111  Device: cpu\n"
          ]
        }
      ]
    },
    {
      "cell_type": "code",
      "source": [
        "from google.colab import drive\n",
        "drive.mount('/content/drive')"
      ],
      "metadata": {
        "colab": {
          "base_uri": "https://localhost:8080/"
        },
        "id": "JcnK5EOWt6tE",
        "outputId": "cb224a87-f630-4f18-efbd-966a6dc9fd97"
      },
      "execution_count": 3,
      "outputs": [
        {
          "output_type": "stream",
          "name": "stdout",
          "text": [
            "Mounted at /content/drive\n"
          ]
        }
      ]
    },
    {
      "cell_type": "code",
      "source": [
        "# Hyperparameters\n",
        "\n",
        "num_classes = 2    # Muss y Tensor Dimension entsprechen\n",
        "Batch_Size = 32\n",
        "Learning_Rate = 0.01       # Muss individuell angepasst werden\n",
        "Number_Epochs = 10         # Je höher, desto genauer\n",
        "Number_Hidden_Neurons = 50    # Je mehr, desto genauer (aber zu viel bringt nichts)\n",
        "Number_Hidden_Neurons_1 = 80    # Je mehr, desto genauer (aber zu viel bringt nichts)\n",
        "in_channels = 3"
      ],
      "metadata": {
        "id": "ZmJWPCfQt76l"
      },
      "execution_count": 29,
      "outputs": []
    },
    {
      "cell_type": "code",
      "source": [
        "####Data augmentation\n",
        "# Note transforms.ToTensor() scales input images\n",
        "# to 0-1 range\n",
        "\n",
        "## train transformations\n",
        "transform_train = transforms.Compose([transforms.Resize((224,224)),\n",
        "                                      transforms.RandomHorizontalFlip(),\n",
        "                                      transforms.RandomAffine(0, shear=10, scale=(0.8,1.2)),\n",
        "                                      transforms.ColorJitter(brightness=1, contrast=1, saturation=1),\n",
        "                                      transforms.ToTensor(),\n",
        "                                      transforms.Normalize((0.5, 0.5, 0.5), (0.5, 0.5, 0.5))\n",
        "                               ])\n",
        "\n",
        "## valid transformations\n",
        "transform = transforms.Compose([transforms.Resize((224,224)),\n",
        "                               transforms.ToTensor(),\n",
        "                               transforms.Normalize((0.5, 0.5, 0.5), (0.5, 0.5, 0.5))\n",
        "                               ])"
      ],
      "metadata": {
        "id": "OQkxZTJouBl-"
      },
      "execution_count": 30,
      "outputs": []
    },
    {
      "cell_type": "code",
      "source": [
        "##########################\n",
        "### Cats and Dogs Dataset\n",
        "##########################\n",
        "\n",
        "\n",
        "training_dataset = datasets.ImageFolder('/content/drive/MyDrive/NN_SS2021/Data gekürzt/train', transform=transform_train)\n",
        "validation_dataset = datasets.ImageFolder('/content/drive/MyDrive/NN_SS2021/Data gekürzt/val', transform=transform)\n",
        "\n",
        "#####################################################\n",
        "### Data Loaders\n",
        "#####################################################\n",
        "train_loader = torch.utils.data.DataLoader(training_dataset, batch_size=Batch_Size, shuffle=True)\n",
        "validation_loader = torch.utils.data.DataLoader(validation_dataset, batch_size = Batch_Size, shuffle=False)"
      ],
      "metadata": {
        "id": "VGM9agqVuNlN"
      },
      "execution_count": 31,
      "outputs": []
    },
    {
      "cell_type": "code",
      "source": [
        "### Checking the dataset\n",
        "for (X_train, y_train) in train_loader:\n",
        "    print('X_train:', X_train.size(), 'type:', X_train.type())\n",
        "    print('y_train:', y_train.size(), 'type:', y_train.type())\n",
        "    break\n",
        "for (X_val, y_val) in validation_loader:\n",
        "    print('X_validation:', X_val.size(), 'type:', X_val.type())\n",
        "    print('y_validation:', y_val.size(), 'type:', y_val.type())\n",
        "    break"
      ],
      "metadata": {
        "colab": {
          "base_uri": "https://localhost:8080/"
        },
        "id": "Z7KGDYs4uwdd",
        "outputId": "7d3c9bc2-e07f-40ed-843e-3d29d92a3a00"
      },
      "execution_count": 32,
      "outputs": [
        {
          "output_type": "stream",
          "name": "stdout",
          "text": [
            "X_train: torch.Size([128, 3, 224, 224]) type: torch.FloatTensor\n",
            "y_train: torch.Size([128]) type: torch.LongTensor\n",
            "X_validation: torch.Size([128, 3, 224, 224]) type: torch.FloatTensor\n",
            "y_validation: torch.Size([128]) type: torch.LongTensor\n"
          ]
        }
      ]
    },
    {
      "cell_type": "code",
      "source": [
        "print(f'Total number of training examples: {len(training_dataset)}')\n",
        "print(f'Total number of validation examples: {len(validation_dataset)}')"
      ],
      "metadata": {
        "colab": {
          "base_uri": "https://localhost:8080/"
        },
        "id": "R_2J4CvKvv1F",
        "outputId": "eeef86b3-2348-4640-a732-ba4d994902be"
      },
      "execution_count": 33,
      "outputs": [
        {
          "output_type": "stream",
          "name": "stdout",
          "text": [
            "Total number of training examples: 509\n",
            "Total number of validation examples: 200\n"
          ]
        }
      ]
    },
    {
      "cell_type": "code",
      "source": [
        "classes = ('cat', 'dog')"
      ],
      "metadata": {
        "id": "sVEYFbRyv5rB"
      },
      "execution_count": 34,
      "outputs": []
    },
    {
      "cell_type": "code",
      "source": [
        "# functions to show an image\n",
        "\n",
        "def imshow(img):\n",
        "    img = img / 2 + 0.5     # unnormalize\n",
        "    npimg = img.numpy()\n",
        "    plt.imshow(np.transpose(npimg, (1, 2, 0)))\n",
        "    plt.show()\n",
        "\n",
        "\n",
        "# get some random training images\n",
        "dataiter = iter(train_loader)\n",
        "images, labels = dataiter.next()\n",
        "\n",
        "# show images\n",
        "imshow(utils.make_grid(images))\n",
        "# print labels\n",
        "print(' '.join('%5s' % classes[labels[j]] for j in range(2)))"
      ],
      "metadata": {
        "colab": {
          "base_uri": "https://localhost:8080/",
          "height": 287
        },
        "id": "rUug2jKZv7Jw",
        "outputId": "fd50855f-a51a-4d32-da89-0897c967e5c5"
      },
      "execution_count": 35,
      "outputs": [
        {
          "output_type": "display_data",
          "data": {
            "image/png": "[encoded data removed]",
            "text/plain": [
              "<Figure size 432x288 with 1 Axes>"
            ]
          },
          "metadata": {
            "needs_background": "light"
          }
        },
        {
          "output_type": "stream",
          "name": "stdout",
          "text": [
            "  dog   cat\n"
          ]
        }
      ]
    },
    {
      "cell_type": "code",
      "source": [
        "class CNN_Modell2(nn.Module):\n",
        "\n",
        "    def __init__(self, in_channels, num_classes):\n",
        "        super(CNN_Modell2, self).__init__()\n",
        "        \n",
        "       \n",
        "        self.features = nn.Sequential(\n",
        "            ##self.conv1 = nn.Conv2d(in_channels = 1, out_channels = 20, kernel_size = 5, stride = 1, padding = 0)\n",
        "            nn.Conv2d(in_channels, 6, kernel_size=5),\n",
        "            #nn.Tanh(),\n",
        "            #nn.AvgPool2d(kernel_size = 2),\n",
        "            nn.ReLU(),\n",
        "            nn.MaxPool2d(kernel_size=2),\n",
        "            \n",
        "\n",
        "            nn.Conv2d(6, 10, kernel_size=5),\n",
        "            #nn.Tanh(),\n",
        "            #nn.AvgPool2d(kernel_size = 2),\n",
        "            nn.ReLU(),\n",
        "            nn.MaxPool2d(kernel_size=2),\n",
        "           \n",
        "            nn.Conv2d(10, 15, kernel_size=6),\n",
        "            #nn.Tanh(),\n",
        "            #nn.AvgPool2d(kernel_size = 2),\n",
        "            nn.ReLU(),\n",
        "            nn.MaxPool2d(kernel_size=2),\n",
        "           \n",
        "            nn.Conv2d(15, 20, kernel_size=9),\n",
        "            #nn.Tanh(),\n",
        "            #nn.AvgPool2d(kernel_size = 2),\n",
        "            nn.ReLU(),\n",
        "            nn.MaxPool2d(kernel_size=2),\n",
        "            \n",
        "            nn.Conv2d(20, 25, kernel_size=3),\n",
        "            #nn.Tanh(),\n",
        "            #nn.AvgPool2d(kernel_size = 2)\n",
        "            nn.ReLU(),\n",
        "            nn.MaxPool2d(kernel_size=2) \n",
        "        )\n",
        "\n",
        "        self.classifier = nn.Sequential(\n",
        "            nn.Linear(3*3*25, Number_Hidden_Neurons),\n",
        "            #nn.Tanh(),\n",
        "            nn.ReLU(),\n",
        "            nn.Linear(Number_Hidden_Neurons, Number_Hidden_Neurons_1),\n",
        "            #nn.Tanh(),\n",
        "            nn.ReLU(),\n",
        "            nn.Linear(Number_Hidden_Neurons_1, num_classes)\n",
        "        )\n",
        "\n",
        "\n",
        "    def forward(self, x):\n",
        "        x = self.features(x)\n",
        "        x = torch.flatten(x,1)\n",
        "        #logits = self.classifier(x)\n",
        "        #probas = F.softmax(logits, dim=1)\n",
        "        probas = self.classifier(x)\n",
        "        return probas"
      ],
      "metadata": {
        "id": "HX-obqh9wPXK"
      },
      "execution_count": 43,
      "outputs": []
    },
    {
      "cell_type": "code",
      "source": [
        "model = CNN_Modell2(3, num_classes).to(device)\n",
        "model"
      ],
      "metadata": {
        "colab": {
          "base_uri": "https://localhost:8080/"
        },
        "id": "W7J9GQzJ8O1H",
        "outputId": "626bf694-6a4e-4e3a-da98-fe5dfe921ed1"
      },
      "execution_count": 44,
      "outputs": [
        {
          "output_type": "execute_result",
          "data": {
            "text/plain": [
              "CNN_Modell2(\n",
              "  (features): Sequential(\n",
              "    (0): Conv2d(3, 6, kernel_size=(5, 5), stride=(1, 1))\n",
              "    (1): ReLU()\n",
              "    (2): MaxPool2d(kernel_size=2, stride=2, padding=0, dilation=1, ceil_mode=False)\n",
              "    (3): Conv2d(6, 10, kernel_size=(5, 5), stride=(1, 1))\n",
              "    (4): ReLU()\n",
              "    (5): MaxPool2d(kernel_size=2, stride=2, padding=0, dilation=1, ceil_mode=False)\n",
              "    (6): Conv2d(10, 15, kernel_size=(6, 6), stride=(1, 1))\n",
              "    (7): ReLU()\n",
              "    (8): MaxPool2d(kernel_size=2, stride=2, padding=0, dilation=1, ceil_mode=False)\n",
              "    (9): Conv2d(15, 20, kernel_size=(9, 9), stride=(1, 1))\n",
              "    (10): ReLU()\n",
              "    (11): MaxPool2d(kernel_size=2, stride=2, padding=0, dilation=1, ceil_mode=False)\n",
              "    (12): Conv2d(20, 25, kernel_size=(3, 3), stride=(1, 1))\n",
              "    (13): ReLU()\n",
              "    (14): MaxPool2d(kernel_size=2, stride=2, padding=0, dilation=1, ceil_mode=False)\n",
              "  )\n",
              "  (classifier): Sequential(\n",
              "    (0): Linear(in_features=225, out_features=50, bias=True)\n",
              "    (1): ReLU()\n",
              "    (2): Linear(in_features=50, out_features=80, bias=True)\n",
              "    (3): ReLU()\n",
              "    (4): Linear(in_features=80, out_features=2, bias=True)\n",
              "  )\n",
              ")"
            ]
          },
          "metadata": {},
          "execution_count": 44
        }
      ]
    },
    {
      "cell_type": "code",
      "source": [
        "# Loss Function vorgeben \n",
        "criterion = nn.CrossEntropyLoss()"
      ],
      "metadata": {
        "id": "KFT2Ak8h8Rbr"
      },
      "execution_count": 38,
      "outputs": []
    },
    {
      "cell_type": "code",
      "source": [
        "# Optimizer vorgeben (SGD Stochastic Gradient Descent)\n",
        "optimizer = torch.optim.SGD(model.parameters(), lr = Learning_Rate)"
      ],
      "metadata": {
        "id": "IoA40YP98UD0"
      },
      "execution_count": 39,
      "outputs": []
    },
    {
      "cell_type": "code",
      "source": [
        "## train function \n",
        "\n",
        "def train(epoch, train_loss_list,train_accuracy_list, log_interval=200):\n",
        "    # Set model to training mode\n",
        "    model.train()\n",
        "    train_loss,correct = 0,0\n",
        "\n",
        "    # Loop over each batch from the training set\n",
        "    for batch_idx, (X_train, y_train) in enumerate(train_loader):\n",
        "\n",
        "        # Copy data to GPU if needed\n",
        "        X_train = X_train.to(device)\n",
        "        y_train = y_train.to(device)\n",
        "\n",
        "        # Forward Propagation:  compute predicted outputs by passing inputs to the model\n",
        "        y_predicted = model(X_train)\n",
        "        \n",
        "        # Zero gradient buffers: clear the gradients of all optimized variables\n",
        "        optimizer.zero_grad() \n",
        "\n",
        "        # Calculate loss\n",
        "        loss = criterion(y_predicted, y_train)\n",
        "\n",
        "        # Backpropagate: compute gradient of the loss with respect to model parameters\n",
        "        loss.backward()\n",
        "        \n",
        "        # Update weights: perform a single optimization step (parameter update)\n",
        "        optimizer.step()\n",
        "\n",
        "      \n",
        "        # save loss value in train_loss list\n",
        "        train_loss += loss.item()  \n",
        "        \n",
        "        pred = y_predicted.data.max(1)[1]\n",
        "        correct += (pred == y_train).float().sum()\n",
        "\n",
        "        # print training statistics \n",
        "        if batch_idx % log_interval == 0:\n",
        "            print('Train Epoch: {} [{}/{} ({:.0f}%)]\\tLoss: {:.6f}'.format(\n",
        "                epoch, batch_idx * len(X_train), len(train_loader.dataset),\n",
        "                100. * batch_idx / len(train_loader), loss.item()))\n",
        "    \n",
        "      # calculate average loss over an epoch            \n",
        "    train_loss /= len(train_loader)\n",
        "    train_loss_list.append(train_loss)    \n",
        "    \n",
        "    accuracy = 100 * correct / len(train_loader.dataset)\n",
        "    train_accuracy_list.append(accuracy)\n",
        "    \n",
        "    print('Train Epoch: {}\\nTrain set: Average loss: {:.4f}, Accuracy: {}/{} ({:.0f}%)\\n'.format(epoch,\n",
        "        loss, correct, len(train_loader.dataset), accuracy))"
      ],
      "metadata": {
        "id": "mgpRbB9u9eJH"
      },
      "execution_count": 40,
      "outputs": []
    },
    {
      "cell_type": "code",
      "source": [
        "## Validation function\n",
        "def validate(val_loss_list,val_accuracy_list):\n",
        "    model.eval()\n",
        "    val_loss, correct = 0, 0\n",
        "    \n",
        "    for X_val, y_val in validation_loader:\n",
        "\n",
        "        X_val = X_val.to(device)\n",
        "        y_val = y_val.to(device)\n",
        "\n",
        "        # Forward Propagation:  compute predicted outputs by passing inputs to the model\n",
        "        y_predicted = model(X_val)\n",
        "        \n",
        "        # Calculate loss\n",
        "        loss = criterion(y_predicted, y_val)\n",
        "        val_loss += loss.item()  \n",
        "        \n",
        "        pred = y_predicted.data.max(1)[1] # get the index of the max log-probability\n",
        "        correct += pred.eq(y_val.data).cpu().sum()\n",
        "\n",
        "    val_loss /= len(validation_loader)\n",
        "    val_loss_list.append(val_loss)\n",
        "\n",
        "    accuracy = 100. * correct.to(torch.float32) / len(validation_loader.dataset)\n",
        "    val_accuracy_list.append(accuracy)\n",
        "    \n",
        "    print('Val Epoch: {}\\nValidation set: Average loss: {:.4f}, Accuracy: {}/{} ({:.0f}%)\\n'.format(epoch,\n",
        "        loss, correct, len(validation_loader.dataset), accuracy))"
      ],
      "metadata": {
        "id": "XP7Ahaeb92Gl"
      },
      "execution_count": 41,
      "outputs": []
    },
    {
      "cell_type": "code",
      "source": [
        "######This is now the actual execution of the process\n",
        "## Train model\n",
        "##%%time\n",
        "\n",
        "train_loss_values,val_loss_values, train_acc_values, val_acc_values = [], [], [], []\n",
        "for epoch in range(Number_Epochs):\n",
        "    train(epoch,train_loss_values, train_acc_values,)\n",
        "    validate(val_loss_values, val_acc_values)"
      ],
      "metadata": {
        "colab": {
          "base_uri": "https://localhost:8080/"
        },
        "id": "Ncr7PuXd93Ec",
        "outputId": "3f267caa-0fa8-4f60-e647-dfb470d35040"
      },
      "execution_count": 45,
      "outputs": [
        {
          "output_type": "stream",
          "name": "stdout",
          "text": [
            "Train Epoch: 0 [0/509 (0%)]\tLoss: 0.694336\n",
            "Train Epoch: 0\n",
            "Train set: Average loss: 0.6946, Accuracy: 258.0/509 (51%)\n",
            "\n",
            "Val Epoch: 0\n",
            "Validation set: Average loss: 0.6581, Accuracy: 93/200 (46%)\n",
            "\n",
            "Train Epoch: 1 [0/509 (0%)]\tLoss: 0.694343\n",
            "Train Epoch: 1\n",
            "Train set: Average loss: 0.6895, Accuracy: 258.0/509 (51%)\n",
            "\n",
            "Val Epoch: 1\n",
            "Validation set: Average loss: 0.6581, Accuracy: 93/200 (46%)\n",
            "\n",
            "Train Epoch: 2 [0/509 (0%)]\tLoss: 0.691568\n",
            "Train Epoch: 2\n",
            "Train set: Average loss: 0.6946, Accuracy: 258.0/509 (51%)\n",
            "\n",
            "Val Epoch: 2\n",
            "Validation set: Average loss: 0.6581, Accuracy: 93/200 (46%)\n",
            "\n",
            "Train Epoch: 3 [0/509 (0%)]\tLoss: 0.689876\n",
            "Train Epoch: 3\n",
            "Train set: Average loss: 0.6941, Accuracy: 258.0/509 (51%)\n",
            "\n",
            "Val Epoch: 3\n",
            "Validation set: Average loss: 0.6581, Accuracy: 93/200 (46%)\n",
            "\n",
            "Train Epoch: 4 [0/509 (0%)]\tLoss: 0.688779\n",
            "Train Epoch: 4\n",
            "Train set: Average loss: 0.6969, Accuracy: 258.0/509 (51%)\n",
            "\n",
            "Val Epoch: 4\n",
            "Validation set: Average loss: 0.6581, Accuracy: 93/200 (46%)\n",
            "\n",
            "Train Epoch: 5 [0/509 (0%)]\tLoss: 0.697099\n",
            "Train Epoch: 5\n",
            "Train set: Average loss: 0.6895, Accuracy: 258.0/509 (51%)\n",
            "\n",
            "Val Epoch: 5\n",
            "Validation set: Average loss: 0.6581, Accuracy: 93/200 (46%)\n",
            "\n",
            "Train Epoch: 6 [0/509 (0%)]\tLoss: 0.693787\n",
            "Train Epoch: 6\n",
            "Train set: Average loss: 0.6958, Accuracy: 258.0/509 (51%)\n",
            "\n",
            "Val Epoch: 6\n",
            "Validation set: Average loss: 0.6581, Accuracy: 93/200 (46%)\n",
            "\n",
            "Train Epoch: 7 [0/509 (0%)]\tLoss: 0.694894\n",
            "Train Epoch: 7\n",
            "Train set: Average loss: 0.6912, Accuracy: 258.0/509 (51%)\n",
            "\n",
            "Val Epoch: 7\n",
            "Validation set: Average loss: 0.6581, Accuracy: 93/200 (46%)\n",
            "\n",
            "Train Epoch: 8 [0/509 (0%)]\tLoss: 0.694896\n",
            "Train Epoch: 8\n",
            "Train set: Average loss: 0.6929, Accuracy: 258.0/509 (51%)\n",
            "\n",
            "Val Epoch: 8\n",
            "Validation set: Average loss: 0.6581, Accuracy: 93/200 (46%)\n",
            "\n",
            "Train Epoch: 9 [0/509 (0%)]\tLoss: 0.696021\n",
            "Train Epoch: 9\n",
            "Train set: Average loss: 0.6918, Accuracy: 258.0/509 (51%)\n",
            "\n",
            "Val Epoch: 9\n",
            "Validation set: Average loss: 0.6581, Accuracy: 93/200 (46%)\n",
            "\n"
          ]
        }
      ]
    },
    {
      "cell_type": "code",
      "source": [
        "plt.figure(figsize=(5,3))\n",
        "plt.plot(np.arange(Number_Epochs), train_loss_values, 'r')\n",
        "plt.plot(np.arange(Number_Epochs), val_loss_values, 'b')\n",
        "plt.title('loss')\n",
        "plt.legend()"
      ],
      "metadata": {
        "colab": {
          "base_uri": "https://localhost:8080/",
          "height": 264
        },
        "id": "llf-QsyR96dj",
        "outputId": "e724ed3f-f38c-49cc-e9f0-32819f135be3"
      },
      "execution_count": 46,
      "outputs": [
        {
          "output_type": "stream",
          "name": "stderr",
          "text": [
            "No handles with labels found to put in legend.\n"
          ]
        },
        {
          "output_type": "execute_result",
          "data": {
            "text/plain": [
              "<matplotlib.legend.Legend at 0x7f91b54bc350>"
            ]
          },
          "metadata": {},
          "execution_count": 46
        },
        {
          "output_type": "display_data",
          "data": {
            "image/png": "[encoded data removed]",
            "text/plain": [
              "<Figure size 360x216 with 1 Axes>"
            ]
          },
          "metadata": {
            "needs_background": "light"
          }
        }
      ]
    },
    {
      "cell_type": "code",
      "source": [
        "plt.figure(figsize=(5,3))\n",
        "plt.plot(np.arange(Number_Epochs), train_acc_values, 'r')\n",
        "plt.plot(np.arange(Number_Epochs),  val_acc_values, 'b')\n",
        "plt.title('accuracy');\n",
        "plt.legend()"
      ],
      "metadata": {
        "colab": {
          "base_uri": "https://localhost:8080/",
          "height": 264
        },
        "id": "Y9KLwjNZ-A01",
        "outputId": "d0f9de3b-b634-4db5-c5de-03712962faac"
      },
      "execution_count": 47,
      "outputs": [
        {
          "output_type": "stream",
          "name": "stderr",
          "text": [
            "No handles with labels found to put in legend.\n"
          ]
        },
        {
          "output_type": "execute_result",
          "data": {
            "text/plain": [
              "<matplotlib.legend.Legend at 0x7f91b6797690>"
            ]
          },
          "metadata": {},
          "execution_count": 47
        },
        {
          "output_type": "display_data",
          "data": {
            "image/png": "[encoded data removed]",
            "text/plain": [
              "<Figure size 360x216 with 1 Axes>"
            ]
          },
          "metadata": {
            "needs_background": "light"
          }
        }
      ]
    },
    {
      "cell_type": "code",
      "source": [
        "### create a confusion matrix\n",
        "\n",
        "testloader = validation_loader \n",
        "\n",
        "classes = ('dog', 'cat')\n",
        "#Berechnung der Confusion-Matrix\n",
        "confusion_matrix = np.zeros([len(classes),len(classes)], int)\n",
        "with torch.no_grad():\n",
        "    for data in testloader:\n",
        "        images, labels = data\n",
        "        dataiter = iter(testloader)\n",
        "        images, labels = dataiter.next()\n",
        "        images,labels = images.to(device),labels.to(device)\n",
        "        outputs = model(images)\n",
        "        _, predicted = torch.max(outputs.data, 1)\n",
        "        for i, l in enumerate(labels):\n",
        "            confusion_matrix[l.item(), predicted[i].item()] += 1\n",
        "#Erstellung des Plots\n",
        "fig, ax = plt.subplots(1,1,figsize=(8,6))\n",
        "ax.matshow(confusion_matrix, aspect='auto', vmin=0, vmax=confusion_matrix.max(), cmap=plt.get_cmap('Blues'))\n",
        "plt.ylabel('actual category')\n",
        "plt.yticks(range(2), classes)\n",
        "plt.xlabel('predicted category')\n",
        "plt.xticks(range(2), classes)\n",
        "#Eintragen der Häufigkeiten in die Confusion-Matrix\n",
        "for (i, j), z in np.ndenumerate(confusion_matrix):\n",
        "    ax.text(j, i, z, ha='center', va='center')\n",
        "plt.show()\n"
      ],
      "metadata": {
        "colab": {
          "base_uri": "https://localhost:8080/",
          "height": 388
        },
        "id": "3yVWZpkn_8XJ",
        "outputId": "42855238-f27c-4103-a2cf-cdf66ecaebc0"
      },
      "execution_count": 48,
      "outputs": [
        {
          "output_type": "display_data",
          "data": {
            "image/png": "[encoded data removed]",
            "text/plain": [
              "<Figure size 576x432 with 1 Axes>"
            ]
          },
          "metadata": {
            "needs_background": "light"
          }
        }
      ]
    }
  ]
}